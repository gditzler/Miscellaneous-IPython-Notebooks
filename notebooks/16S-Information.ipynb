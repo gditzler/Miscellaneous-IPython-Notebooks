{
 "metadata": {
  "name": "",
  "signature": "sha256:427b8960d7fd92bd2a5bf52f1604faee4b88d68a0e15582cac3eac60a77caf52"
 },
 "nbformat": 3,
 "nbformat_minor": 0,
 "worksheets": [
  {
   "cells": [
    {
     "cell_type": "markdown",
     "metadata": {},
     "source": [
      "# Imports"
     ]
    },
    {
     "cell_type": "code",
     "collapsed": false,
     "input": [
      "import sys\n",
      "import numpy as np\n",
      "import pandas as pd\n",
      "import matplotlib.pylab as plt\n",
      "import scipy\n",
      "import pylab\n",
      "import scipy.cluster.hierarchy as sch\n",
      "import pickle \n",
      "\n",
      "sys.path.append(\"../src/\")\n",
      "import utils \n",
      "import bmu\n",
      "import mi"
     ],
     "language": "python",
     "metadata": {},
     "outputs": []
    },
    {
     "cell_type": "markdown",
     "metadata": {},
     "source": [
      "# American Gut Project"
     ]
    },
    {
     "cell_type": "code",
     "collapsed": false,
     "input": [
      "data, samples_sex, features_sex = bmu.load_biom(\"/Users/gditzler/Git/DataCollections/AmericanGut/AmericanGut-Gut-Sex.biom\")\n",
      "map_sex = bmu.load_map(\"/Users/gditzler/Git/DataCollections/AmericanGut/AmericanGut-Gut-Sex.txt\")\n",
      "labels_sex_numeric, label_sex_map = utils.label_formatting(map_sex, samples_sex, \"SEX\")\n",
      "data_sex = utils.normalize(1.+data)\n",
      "data_sex_log = utils.normalize(1.+data, scale=\"log\")\n",
      "\n",
      "data, samples_diet, features_diet = bmu.load_biom(\"/Users/gditzler/Git/DataCollections/AmericanGut/AmericanGut-Gut-Diet.biom\")\n",
      "map_diet = bmu.load_map(\"/Users/gditzler/Git/DataCollections/AmericanGut/AmericanGut-Gut-Diet-OV.txt\")\n",
      "labels_diet_numeric, label_diet_map = utils.label_formatting(map_diet, samples_diet, \"DIET_TYPE\")\n",
      "data_diet = utils.normalize(1.+data)\n",
      "data_diet_log = utils.normalize(1.+data, scale=\"log\")"
     ],
     "language": "python",
     "metadata": {},
     "outputs": []
    },
    {
     "cell_type": "markdown",
     "metadata": {},
     "source": [
      "## Average Mutual Information"
     ]
    },
    {
     "cell_type": "code",
     "collapsed": false,
     "input": [
      "n_averages = 25\n",
      "n_show = 2000\n",
      "mutual_infos = np.zeros((len(features_sex),))\n",
      "mutual_infos_log = np.zeros((len(features_sex),))\n",
      "plt.figure()\n",
      "\n",
      "for n in range(n_averages):\n",
      "    # draw a bootstrap sample from the normalized data and compute the mutual \n",
      "    # information. \n",
      "    idx = np.random.randint(0, len(samples_sex), len(samples_sex))\n",
      "    data_n = data_sex[idx]\n",
      "    labels_n = labels_sex_numeric[idx]\n",
      "    mutual_info = mi.calc_mi(data=data_n, labels=labels_n)\n",
      "    mutual_infos += mutual_info\n",
      "    \n",
      "    # if this is the first time through, determine and fixed ordering based on \n",
      "    # the mutual information \n",
      "    if n == 0:\n",
      "        idx_sorted = np.argsort(mutual_info)\n",
      "    \n",
      "    # draw a bootstrap sample from the normalized data that has a log transform\n",
      "    # applied then compute the mutual information. \n",
      "    idx = np.random.randint(0, len(samples_sex), len(samples_sex))\n",
      "    data_n_log = data_sex_log[idx]\n",
      "    labels_n_log = labels_sex_numeric[idx]\n",
      "    mutual_info_log = mi.calc_mi(data=data_n_log, labels=labels_n_log)\n",
      "    mutual_infos_log += mutual_info_log\n",
      "    \n",
      "    plt.subplot(2,1,1)\n",
      "    plt.plot(range(n_show), mutual_info[idx_sorted][::-1][:n_show], color='.7')\n",
      "    \n",
      "    plt.subplot(2,1,2)\n",
      "    plt.plot(range(n_show), mutual_info_log[idx_sorted][::-1][:n_show], color='.7')\n",
      "    \n",
      "\n",
      "plt.subplot(2,1,1)\n",
      "plt.plot(range(n_show), mutual_infos[idx_sorted][::-1][:n_show]/n_averages, color='0.')\n",
      "plt.ylabel(\"I(X;Y)\")\n",
      "\n",
      "plt.subplot(2,1,2)\n",
      "plt.plot(range(n_show), mutual_infos_log[idx_sorted][::-1][:n_show]/n_averages, color='0.')\n",
      "plt.xlabel(\"arbitrary index\")\n",
      "plt.ylabel(\"I(X;Y)\")\n",
      "\n",
      "features_sex_sorted = np.array(features_sex)[idx_sorted][::-1]\n",
      "for feature in features_sex_sorted[:10]:\n",
      "    print feature.replace(\"[\",\"\").replace(\"]\",\"\").replace(\"\\\"\",\"\")\n",
      "    \n",
      "# only use the features with the highest I(X;Y) even though we are computing MI unconditional in Y\n",
      "si = np.array(sorted(range(len(mutual_info)), key=lambda k: mutual_infos[k]/n_averages)[::-1][:1000])\n",
      "mi_mat = mi.mi_matrix(data_sex[:,si], par=True, cpus=10)\n",
      "output_sex = {\"mi_mat\":mi_mat, \"si\":si, \"mutual_info\":mutual_infos/n_averages}\n",
      "pickle.dump(output_sex, open( \"../files/mi-mat-sex.pkl\", \"wb\" ) )\n"
     ],
     "language": "python",
     "metadata": {},
     "outputs": []
    },
    {
     "cell_type": "code",
     "collapsed": false,
     "input": [
      "n_averages = 25\n",
      "n_show = 2000\n",
      "mutual_infos = np.zeros((len(features_diet),))\n",
      "mutual_infos_log = np.zeros((len(features_diet),))\n",
      "plt.figure()\n",
      "\n",
      "for n in range(n_averages):\n",
      "    # draw a bootstrap sample from the normalized data and compute the mutual \n",
      "    # information. \n",
      "    idx = np.random.randint(0, len(samples_diet), len(samples_diet))\n",
      "    data_n = data_diet[idx]\n",
      "    labels_n = labels_diet_numeric[idx]\n",
      "    mutual_info = mi.calc_mi(data=data_n, labels=labels_n)\n",
      "    mutual_infos += mutual_info\n",
      "    \n",
      "    # if this is the first time through, determine and fixed ordering based on \n",
      "    # the mutual information \n",
      "    if n == 0:\n",
      "        idx_sorted = np.argsort(mutual_info)\n",
      "    \n",
      "    # draw a bootstrap sample from the normalized data that has a log transform\n",
      "    # applied then compute the mutual information. \n",
      "    idx = np.random.randint(0, len(samples_diet), len(samples_diet))\n",
      "    data_n_log = data_diet_log[idx]\n",
      "    labels_n_log = labels_diet_numeric[idx]\n",
      "    mutual_info_log = mi.calc_mi(data=data_n_log, labels=labels_n_log)\n",
      "    mutual_infos_log += mutual_info_log\n",
      "    \n",
      "    plt.subplot(2,1,1)\n",
      "    plt.plot(range(n_show), mutual_info[idx_sorted][::-1][:n_show], color='.7')\n",
      "    \n",
      "    plt.subplot(2,1,2)\n",
      "    plt.plot(range(n_show), mutual_info_log[idx_sorted][::-1][:n_show], color='.7')\n",
      "    \n",
      "\n",
      "plt.subplot(2,1,1)\n",
      "plt.plot(range(n_show), mutual_infos[idx_sorted][::-1][:n_show]/n_averages, color='0.')\n",
      "plt.ylabel(\"I(X;Y)\")\n",
      "\n",
      "plt.subplot(2,1,2)\n",
      "plt.plot(range(n_show), mutual_infos_log[idx_sorted][::-1][:n_show]/n_averages, color='0.')\n",
      "plt.xlabel(\"arbitrary index\")\n",
      "plt.ylabel(\"I(X;Y)\")\n",
      "\n",
      "features_sex_sorted = np.array(features_sex)[idx_sorted][::-1]\n",
      "for feature in features_sex_sorted[:10]:\n",
      "    print feature.replace(\"[\",\"\").replace(\"]\",\"\").replace(\"\\\"\",\"\")\n",
      "\n",
      "# only use the features with the highest I(X;Y) even though we are computing MI unconditional in Y\n",
      "si = np.array(sorted(range(len(mutual_info)), key=lambda k: mutual_infos[k]/n_averages)[::-1][:1000])\n",
      "mi_mat = mi.mi_matrix(data_diet[:,si], par=True, cpus=10)\n",
      "output_diet = {\"mi_mat\":mi_mat, \"si\":si, \"mutual_info\":mutual_infos/n_averages}\n",
      "pickle.dump(output_diet, open( \"../files/mi-mat-diet.pkl\", \"wb\" ))"
     ],
     "language": "python",
     "metadata": {},
     "outputs": []
    },
    {
     "cell_type": "code",
     "collapsed": false,
     "input": [],
     "language": "python",
     "metadata": {},
     "outputs": []
    },
    {
     "cell_type": "code",
     "collapsed": false,
     "input": [],
     "language": "python",
     "metadata": {},
     "outputs": []
    }
   ],
   "metadata": {}
  }
 ]
}